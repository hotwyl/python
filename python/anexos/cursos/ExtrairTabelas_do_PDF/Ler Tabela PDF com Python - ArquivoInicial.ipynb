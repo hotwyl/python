{
 "cells": [
  {
   "cell_type": "markdown",
   "id": "306870af",
   "metadata": {},
   "source": [
    "# Ler tabelas em pdf com Python"
   ]
  },
  {
   "cell_type": "markdown",
   "id": "f9414ac2",
   "metadata": {},
   "source": [
    "### Instalação:\n",
    "\n",
    "1. pip install tabula-py\n",
    "2. verifique se tem o java no seu computador, caso contrário, instale o java\n",
    "3. Reinicie o Jupyter\n",
    "4. Usar no código\n",
    "    - Caso mesmo assim o tabula dê algum erro e não reconheça o read_pdf, você pode importar:<br>from tabula.io import read_pdf"
   ]
  },
  {
   "cell_type": "markdown",
   "id": "cdbd7b45",
   "metadata": {},
   "source": [
    "### Nosso exemplo:"
   ]
  },
  {
   "cell_type": "markdown",
   "id": "85e19e14",
   "metadata": {},
   "source": [
    "- Faça o download do nosso PDF\n",
    "\n",
    "- Local arquivo: http://www.vale.com/PT/investors/information-market/quarterly-results/ResultadosTrimestrais/Vale_IFRS_1T21_BRL_v26042021_vf.pdf"
   ]
  },
  {
   "cell_type": "code",
   "execution_count": null,
   "id": "161f2eb1",
   "metadata": {},
   "outputs": [],
   "source": []
  },
  {
   "cell_type": "markdown",
   "id": "3231536d",
   "metadata": {},
   "source": [
    "### Mas nem sempre a tabela vai vir bonitinha"
   ]
  },
  {
   "cell_type": "code",
   "execution_count": null,
   "id": "32c3d730",
   "metadata": {},
   "outputs": [],
   "source": []
  },
  {
   "cell_type": "code",
   "execution_count": null,
   "id": "48c9aa01",
   "metadata": {},
   "outputs": [],
   "source": []
  },
  {
   "cell_type": "markdown",
   "id": "ab92cfdf",
   "metadata": {},
   "source": [
    "### E se ele não tiver reconhecendo a tabela?\n",
    "\n",
    "2 parâmetros para testar:\n",
    "\n",
    "- lattice\n",
    "- guess"
   ]
  },
  {
   "cell_type": "code",
   "execution_count": null,
   "id": "8832fb56",
   "metadata": {},
   "outputs": [],
   "source": [
    "# lattice\n",
    "lista_df = tabula.read_pdf(\"ResultadoVale.pdf\", pages=\"10\", lattice=True)\n",
    "display(lista_df[0])\n",
    "\n",
    "print(\"*\" * 10)\n",
    "\n",
    "# guess\n",
    "lista_df = tabula.read_pdf(\"ResultadoVale.pdf\", pages=\"10\", guess=False)\n",
    "display(lista_df[0])"
   ]
  }
 ],
 "metadata": {
  "kernelspec": {
   "display_name": "Python 3",
   "language": "python",
   "name": "python3"
  },
  "language_info": {
   "codemirror_mode": {
    "name": "ipython",
    "version": 3
   },
   "file_extension": ".py",
   "mimetype": "text/x-python",
   "name": "python",
   "nbconvert_exporter": "python",
   "pygments_lexer": "ipython3",
   "version": "3.8.8"
  }
 },
 "nbformat": 4,
 "nbformat_minor": 5
}
